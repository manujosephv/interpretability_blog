{
 "cells": [
  {
   "cell_type": "markdown",
   "metadata": {},
   "source": [
    "The FIFA 19 dataset contains over 18,000 rows with 89 columns. Dataset can be found here - https://www.kaggle.com/karangadiya/fifa19\n",
    "<br><br><br>\n",
    "\n",
    "---   \n",
    "\n",
    "Taken from https://www.kaggle.com/ap1495/fifa-19-classification-regression"
   ]
  },
  {
   "cell_type": "markdown",
   "metadata": {},
   "source": [
    "### Import required libraries"
   ]
  },
  {
   "cell_type": "code",
   "execution_count": 10,
   "metadata": {},
   "outputs": [],
   "source": [
    "import numpy as np\n",
    "import scipy as sp\n",
    "import pandas as pd\n",
    "import matplotlib.pyplot as plt\n",
    "import seaborn as sns\n",
    "import plotly.offline as py\n",
    "import plotly.graph_objs as go\n",
    "from plotly import tools\n",
    "from plotly.offline import download_plotlyjs, init_notebook_mode, plot, iplot\n",
    "import cufflinks as cf\n",
    "import warnings\n",
    "warnings.filterwarnings('ignore')\n",
    "import pathlib\n",
    "import pandas_profiling"
   ]
  },
  {
   "cell_type": "code",
   "execution_count": 11,
   "metadata": {},
   "outputs": [
    {
     "data": {
      "text/html": [
       "        <script type=\"text/javascript\">\n",
       "        window.PlotlyConfig = {MathJaxConfig: 'local'};\n",
       "        if (window.MathJax) {MathJax.Hub.Config({SVG: {font: \"STIX-Web\"}});}\n",
       "        if (typeof require !== 'undefined') {\n",
       "        require.undef(\"plotly\");\n",
       "        requirejs.config({\n",
       "            paths: {\n",
       "                'plotly': ['https://cdn.plot.ly/plotly-latest.min']\n",
       "            }\n",
       "        });\n",
       "        require(['plotly'], function(Plotly) {\n",
       "            window._Plotly = Plotly;\n",
       "        });\n",
       "        }\n",
       "        </script>\n",
       "        "
      ]
     },
     "metadata": {},
     "output_type": "display_data"
    },
    {
     "data": {
      "text/html": [
       "        <script type=\"text/javascript\">\n",
       "        window.PlotlyConfig = {MathJaxConfig: 'local'};\n",
       "        if (window.MathJax) {MathJax.Hub.Config({SVG: {font: \"STIX-Web\"}});}\n",
       "        if (typeof require !== 'undefined') {\n",
       "        require.undef(\"plotly\");\n",
       "        requirejs.config({\n",
       "            paths: {\n",
       "                'plotly': ['https://cdn.plot.ly/plotly-latest.min']\n",
       "            }\n",
       "        });\n",
       "        require(['plotly'], function(Plotly) {\n",
       "            window._Plotly = Plotly;\n",
       "        });\n",
       "        }\n",
       "        </script>\n",
       "        "
      ]
     },
     "metadata": {},
     "output_type": "display_data"
    }
   ],
   "source": [
    "init_notebook_mode(connected=True)\n",
    "cf.go_offline()"
   ]
  },
  {
   "cell_type": "markdown",
   "metadata": {},
   "source": [
    "### Read the data"
   ]
  },
  {
   "cell_type": "code",
   "execution_count": 12,
   "metadata": {},
   "outputs": [
    {
     "name": "stdout",
     "output_type": "stream",
     "text": [
      "Number of Categorical Columns:  45\n",
      "Number of Numerical Columns:  44\n"
     ]
    }
   ],
   "source": [
    "cwd = pathlib.Path.cwd()\n",
    "data = pd.read_csv(cwd/'fifa_19_dataset'/'data.csv')\n",
    "\n",
    "print('Number of Categorical Columns: ', len(data.select_dtypes(include=object).columns))\n",
    "print('Number of Numerical Columns: ', len(data.select_dtypes(exclude=object).columns))"
   ]
  },
  {
   "cell_type": "code",
   "execution_count": 13,
   "metadata": {},
   "outputs": [],
   "source": [
    "report = data.profile_report()\n",
    "\n",
    "report.to_file(output_file=\"FIFA19_original.html\")"
   ]
  },
  {
   "cell_type": "code",
   "execution_count": null,
   "metadata": {},
   "outputs": [],
   "source": []
  },
  {
   "cell_type": "code",
   "execution_count": 3,
   "metadata": {},
   "outputs": [
    {
     "name": "stdout",
     "output_type": "stream",
     "text": [
      "Number of Categorical Columns:  45\n",
      "Number of Numerical Columns:  44\n"
     ]
    }
   ],
   "source": [
    "# We have a dataset with 18,207 rows which includes 45 categorical features and 44 numerical features.\n",
    "\n",
    "# Dealing with unnecessary features and missing values\n",
    "\n",
    "#Dropping columns which are of very less significance.\n",
    "data.drop(columns=['Unnamed: 0', 'ID', 'Photo', 'Flag', 'Club Logo', 'Special', 'Real Face', 'Release Clause',\n",
    "                   'Joined', 'Contract Valid Until'], inplace=True)\n",
    "\n",
    "#Dropping Loaned From as more than half the values are missing\n",
    "data.drop(columns=['Loaned From'], inplace=True)\n",
    "\n",
    "#Still a lot of missing values to deal with. Let us fill in these missing values appropriately and/or drop columns which are not required. <br><br>\n",
    "\n",
    "#Players who are not part of any club.\n",
    "data['Club'].fillna(value='No Club', inplace=True)\n",
    "\n",
    "#Full of NaN values for many features, so drop.\n",
    "data.drop(index=data[data['Preferred Foot'].isna()].index, inplace=True)\n",
    "\n",
    "#Can fill in position manually but LS, RS, CF, etc. features have no values, so drop them.\n",
    "data.drop(index=data[data['Position'].isna()].index, inplace=True)\n",
    "\n",
    "#Looks like the above features are not set for Goalkeepers. We cannot drop them as it would remove all the goal keepers from our dataset. Instead we will fill these values with 0.\n",
    "\n",
    "data.fillna(value=0, inplace=True)"
   ]
  },
  {
   "cell_type": "markdown",
   "metadata": {},
   "source": [
    "### Converting categorical features to appropriate numerical features"
   ]
  },
  {
   "cell_type": "code",
   "execution_count": 4,
   "metadata": {},
   "outputs": [],
   "source": [
    "#Function to convert value and wage of the player.\n",
    "def currencyConverter(val):\n",
    "    if val[-1] == 'M':\n",
    "        val = val[1:-1]\n",
    "        val = float(val) * 1000000\n",
    "        return val\n",
    "        \n",
    "    elif val[-1] == 'K':\n",
    "        val = val[1:-1]\n",
    "        val = float(val) * 1000\n",
    "        return val\n",
    "    \n",
    "    else:\n",
    "        return 0\n",
    "\n",
    "data['Value in Pounds'] = data['Value'].apply(currencyConverter)\n",
    "data['Wage in Pounds'] = data['Wage'].apply(currencyConverter)\n",
    "\n",
    "data.drop(columns=['Value', 'Wage'], inplace=True)\n",
    "\n",
    "# Value and Wage have been converted.\n",
    "\n",
    "#Function to convert skill rating at each position.\n",
    "def skillConverter(val):\n",
    "    if type(val) == str:\n",
    "        s1 = val[0:2]\n",
    "        s2 = val[-1]\n",
    "        val = int(s1) + int(s2)\n",
    "        return val\n",
    "    \n",
    "    else:\n",
    "        return val\n",
    "\n",
    "skill_columns = ['LS', 'ST', 'RS', 'LW', 'LF', 'CF', 'RF', 'RW', 'LAM', 'CAM',\n",
    "       'RAM', 'LM', 'LCM', 'CM', 'RCM', 'RM', 'LWB', 'LDM', 'CDM', 'RDM',\n",
    "       'RWB', 'LB', 'LCB', 'CB', 'RCB', 'RB']\n",
    "                      \n",
    "for col in skill_columns:\n",
    "    data[col] = data[col].apply(skillConverter)\n",
    "\n",
    "def height_converter(val):\n",
    "    f = val.split(\"'\")[0]\n",
    "    i = val.split(\"'\")[1]\n",
    "    h = (int(f) * 30.48) + (int(i)*2.54)\n",
    "    return h\n",
    "\n",
    "def weight_converter(val):\n",
    "    w = int(val.split('lbs')[0])\n",
    "    return w\n",
    "\n",
    "data['Height in Cms'] = data['Height'].apply(height_converter)\n",
    "data['Weight in Pounds'] = data['Weight'].apply(weight_converter)\n",
    "\n",
    "data.drop(columns=['Height', 'Weight'], inplace=True)\n",
    "\n",
    "\n",
    "# For the remaining columns - **Work Rate, Body Type, Position**, we will not be converting them to numerical features right now. Here, we ensure these features have appropriate values and they will be converted to numerical features when feeding this data to our machine learning models.\n",
    "\n",
    "data['Body Type'][data['Body Type'] == 'Messi'] = 'Lean'\n",
    "data['Body Type'][data['Body Type'] == 'C. Ronaldo'] = 'Normal'\n",
    "data['Body Type'][data['Body Type'] == 'Neymar'] = 'Lean'\n",
    "data['Body Type'][data['Body Type'] == 'Courtois'] = 'Lean'\n",
    "#PLAYER_BODY_TYPE_25 is the body type of Mohammed Salah who has a Normal body type.\n",
    "data['Body Type'][data['Body Type'] == 'PLAYER_BODY_TYPE_25'] = 'Normal'\n",
    "data['Body Type'][data['Body Type'] == 'Shaqiri'] = 'Stocky'\n",
    "data['Body Type'][data['Body Type'] == 'Akinfenwa'] = 'Stocky'\n",
    "\n",
    "# # Let us simplify the above positions into 4 simple categories of - **F**orwards, **M**idfielders, **D**efenders and **G**oal**K**eepers\n",
    "\n",
    "def position_simplifier(val):\n",
    "    \n",
    "    if val == 'RF' or val == 'ST' or val == 'LF' or val == 'RS' or val == 'LS' or val == 'CF':\n",
    "        val = 'F'\n",
    "        return val\n",
    "        \n",
    "    elif val == 'LW' or val == 'RCM' or val == 'LCM' or val == 'LDM' or val == 'CAM' or val == 'CDM' or val == 'RM' \\\n",
    "         or val == 'LAM' or val == 'LM' or val == 'RDM' or val == 'RW' or val == 'CM' or val == 'RAM':\n",
    "        val = 'M'\n",
    "        return val\n",
    "\n",
    "    \n",
    "    elif val == 'RCB' or val == 'CB' or val == 'LCB' or val == 'LB' or val == 'RB' or val == 'RWB' or val == 'LWB':\n",
    "        val = 'D'\n",
    "        return val\n",
    "    \n",
    "    else:\n",
    "        return val\n",
    "        \n",
    "\n",
    "data['Position'] = data['Position'].apply(position_simplifier)"
   ]
  },
  {
   "cell_type": "markdown",
   "metadata": {},
   "source": [
    "# Profling"
   ]
  },
  {
   "cell_type": "code",
   "execution_count": 7,
   "metadata": {},
   "outputs": [],
   "source": [
    "report = data.profile_report()"
   ]
  },
  {
   "cell_type": "code",
   "execution_count": 9,
   "metadata": {},
   "outputs": [],
   "source": [
    "report.to_file(output_file=\"FIFA19.html\")"
   ]
  },
  {
   "cell_type": "code",
   "execution_count": null,
   "metadata": {},
   "outputs": [],
   "source": []
  }
 ],
 "metadata": {
  "kernelspec": {
   "display_name": "Python 3",
   "language": "python",
   "name": "python3"
  },
  "language_info": {
   "codemirror_mode": {
    "name": "ipython",
    "version": 3
   },
   "file_extension": ".py",
   "mimetype": "text/x-python",
   "name": "python",
   "nbconvert_exporter": "python",
   "pygments_lexer": "ipython3",
   "version": "3.7.4"
  }
 },
 "nbformat": 4,
 "nbformat_minor": 1
}
