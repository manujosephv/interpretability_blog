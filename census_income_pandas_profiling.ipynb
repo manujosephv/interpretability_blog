{
 "cells": [
  {
   "cell_type": "markdown",
   "metadata": {
    "_cell_guid": "2249cd4d-d941-4015-8103-9dcdec8bc587",
    "_execution_state": "idle",
    "_uuid": "b36102e03c9ec96cd20c1f6d40a1f8591d45c0c6"
   },
   "source": [
    "https://www.kaggle.com/ipbyrne/income-prediction-84-369-accuracy\n",
    "\n",
    "## 1. Load Libaraies"
   ]
  },
  {
   "cell_type": "markdown",
   "metadata": {
    "_cell_guid": "bfca2f2a-d078-4f0a-ad8a-3d3571a08f76",
    "_execution_state": "idle",
    "_uuid": "e5e4b5ee88062058ceff62de7993eac563c1582b"
   },
   "source": [
    "First, we need to load all of our libraries we will use for this project."
   ]
  },
  {
   "cell_type": "code",
   "execution_count": 1,
   "metadata": {
    "_cell_guid": "9201e3be-d4ec-4e38-9e7b-eb7bf54d7c25",
    "_execution_state": "idle",
    "_uuid": "de4cbbff6d2b51eb47a5a4719da64cd27804989d"
   },
   "outputs": [
    {
     "data": {
      "text/html": [
       "        <script type=\"text/javascript\">\n",
       "        window.PlotlyConfig = {MathJaxConfig: 'local'};\n",
       "        if (window.MathJax) {MathJax.Hub.Config({SVG: {font: \"STIX-Web\"}});}\n",
       "        if (typeof require !== 'undefined') {\n",
       "        require.undef(\"plotly\");\n",
       "        requirejs.config({\n",
       "            paths: {\n",
       "                'plotly': ['https://cdn.plot.ly/plotly-latest.min']\n",
       "            }\n",
       "        });\n",
       "        require(['plotly'], function(Plotly) {\n",
       "            window._Plotly = Plotly;\n",
       "        });\n",
       "        }\n",
       "        </script>\n",
       "        "
      ]
     },
     "metadata": {},
     "output_type": "display_data"
    },
    {
     "data": {
      "text/html": [
       "        <script type=\"text/javascript\">\n",
       "        window.PlotlyConfig = {MathJaxConfig: 'local'};\n",
       "        if (window.MathJax) {MathJax.Hub.Config({SVG: {font: \"STIX-Web\"}});}\n",
       "        if (typeof require !== 'undefined') {\n",
       "        require.undef(\"plotly\");\n",
       "        requirejs.config({\n",
       "            paths: {\n",
       "                'plotly': ['https://cdn.plot.ly/plotly-latest.min']\n",
       "            }\n",
       "        });\n",
       "        require(['plotly'], function(Plotly) {\n",
       "            window._Plotly = Plotly;\n",
       "        });\n",
       "        }\n",
       "        </script>\n",
       "        "
      ]
     },
     "metadata": {},
     "output_type": "display_data"
    }
   ],
   "source": [
    "import pandas as pd\n",
    "import numpy as np\n",
    "import matplotlib.pyplot as plt\n",
    "import seaborn as sns\n",
    "%matplotlib inline\n",
    "\n",
    "from collections import Counter\n",
    "\n",
    "from sklearn.ensemble import RandomForestClassifier\n",
    "from xgboost import XGBClassifier\n",
    "from sklearn.linear_model import LogisticRegressionCV\n",
    "from sklearn.model_selection import GridSearchCV, cross_val_score, StratifiedKFold, learning_curve, train_test_split, KFold\n",
    "from sklearn.metrics import classification_report\n",
    "from sklearn.metrics import confusion_matrix\n",
    "from sklearn.metrics import accuracy_score\n",
    "from sklearn.preprocessing import LabelEncoder\n",
    "import plotly.offline as py\n",
    "import plotly.graph_objs as go\n",
    "from plotly import tools\n",
    "from plotly.offline import download_plotlyjs, init_notebook_mode, plot, iplot\n",
    "import cufflinks as cf\n",
    "import warnings\n",
    "warnings.filterwarnings('ignore')\n",
    "\n",
    "import pathlib\n",
    "from mlxtend.evaluate import feature_importance_permutation\n",
    "sns.set(style='white', context='notebook', palette='deep')\n",
    "init_notebook_mode(connected=True)\n",
    "cf.go_offline()\n",
    "\n",
    "import joblib\n",
    "import pandas_profiling"
   ]
  },
  {
   "cell_type": "markdown",
   "metadata": {
    "_cell_guid": "bf1d51ca-c701-44dd-a305-dbbfd4bb0cec",
    "_execution_state": "idle",
    "_uuid": "161e57d369bf62b7ad27912cc4ae0116ac5de0b6"
   },
   "source": [
    "##2. Load Data"
   ]
  },
  {
   "cell_type": "markdown",
   "metadata": {
    "_cell_guid": "960b99a1-4408-4c1a-b86b-788c17e3b18b",
    "_execution_state": "idle",
    "_uuid": "0ecc4df26f5b56f9bfc4ed1841a73c8aafa00837"
   },
   "source": [
    "Next, we load our data."
   ]
  },
  {
   "cell_type": "code",
   "execution_count": 2,
   "metadata": {},
   "outputs": [],
   "source": [
    "cwd = pathlib.Path.cwd()\n",
    "dataset = pd.read_csv(cwd/'adult_dataset'/'adult.data', names = ['age','workclass','fnlwgt','education','education_num','marital_status','occupation','relationship','race','sex','capital_gain','capital_loss','hours_per_week','native_country','income'])"
   ]
  },
  {
   "cell_type": "code",
   "execution_count": 3,
   "metadata": {},
   "outputs": [],
   "source": [
    "report = dataset.profile_report()\n",
    "\n",
    "report.to_file(output_file=\"Census_original.html\")"
   ]
  },
  {
   "cell_type": "code",
   "execution_count": 4,
   "metadata": {},
   "outputs": [],
   "source": [
    "# Replace All Null Data in NaN\n",
    "dataset = dataset.fillna(np.nan)\n",
    "\n",
    "le= LabelEncoder()\n",
    "dataset['income'] = le.fit_transform(dataset['income'])\n",
    "\n",
    "# Identify Numeric features\n",
    "numeric_features = ['age','fnlwgt','education_num','capital_gain','capital_loss','hours_per_week','income']\n",
    "\n",
    "# Identify Categorical features\n",
    "cat_features = ['workclass','education','marital_status', 'occupation', 'relationship', 'race', 'sex', 'native']\n",
    "\n",
    "# Fill Missing Category Entries\n",
    "dataset[\"workclass\"] = dataset[\"workclass\"].fillna(\"X\")\n",
    "dataset[\"occupation\"] = dataset[\"occupation\"].fillna(\"X\")\n",
    "dataset[\"native_country\"] = dataset[\"native_country\"].fillna(\"United-States\")\n",
    "\n",
    "# Create Married Column - Binary Yes(1) or No(0)\n",
    "dataset[\"marital_status\"] = dataset[\"marital_status\"].replace([' Never-married',' Divorced',' Separated',' Widowed'], 'Single')\n",
    "dataset[\"marital_status\"] = dataset[\"marital_status\"].replace([' Married-civ-spouse',' Married-spouse-absent',' Married-AF-spouse'], 'Married')\n",
    "\n",
    "# dataset.drop(labels=[\"workclass\",\"education\",\"occupation\",\"relationship\",\"race\",\"native_country\"], axis = 1, inplace = True)"
   ]
  },
  {
   "cell_type": "code",
   "execution_count": 5,
   "metadata": {},
   "outputs": [],
   "source": [
    "report = dataset.profile_report()\n",
    "\n",
    "report.to_file(output_file=\"Census_profile.html\")"
   ]
  }
 ],
 "metadata": {
  "kernelspec": {
   "display_name": "Python 3",
   "language": "python",
   "name": "python3"
  },
  "language_info": {
   "codemirror_mode": {
    "name": "ipython",
    "version": 3
   },
   "file_extension": ".py",
   "mimetype": "text/x-python",
   "name": "python",
   "nbconvert_exporter": "python",
   "pygments_lexer": "ipython3",
   "version": "3.7.4"
  }
 },
 "nbformat": 4,
 "nbformat_minor": 4
}
